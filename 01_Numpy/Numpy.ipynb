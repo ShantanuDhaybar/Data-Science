{
  "cells": [
    {
      "cell_type": "markdown",
      "source": [
        "##Numpy"
      ],
      "metadata": {
        "id": "-iNCTQrpNux1"
      }
    },
    {
      "cell_type": "code",
      "source": [
        "# Numpy : \n",
        "\n",
        "# SEQUENCE => ARRAY()\n",
        "# 1D, 2D, 3D\n",
        "# ACCESS THE ELEMENTS : INDEX AND SLICING\n",
        "# ATTRIBUTES : NDIM, SHAPE, SIZE ETC\n",
        "# FUNCTIONS : SUM() MIN() MAX()   : ROWS : 1  COLUMNS : 0\n",
        "# FUNCTION : RESHAPE()\n",
        "\n",
        "# range() arange() linspace()\n",
        "# Random Number Generator\n",
        "# Trigonometric Funcrions : sin(), cos(), tan()\n",
        "# Statistical Function : mean(), median()\n",
        "# decimal function : ceil(), floor(), around()"
      ],
      "metadata": {
        "id": "pBi_svSUTgeL"
      },
      "execution_count": 1,
      "outputs": []
    },
    {
      "cell_type": "code",
      "execution_count": 2,
      "metadata": {
        "id": "HrSRFhxEhyap"
      },
      "outputs": [],
      "source": [
        "# Sequences :\n",
        "# 1. List\n",
        "# 2. Tuples \n",
        "# 3. Dictionary\n",
        "# 4. Sets\n",
        "# 5. String"
      ]
    },
    {
      "cell_type": "code",
      "execution_count": null,
      "metadata": {
        "colab": {
          "base_uri": "https://localhost:8080/"
        },
        "id": "vpfQrmOohyas",
        "outputId": "f0b85b27-7ecb-4826-b26b-491bbe24400f"
      },
      "outputs": [
        {
          "output_type": "stream",
          "name": "stdout",
          "text": [
            "[10, 20, 30, 40, 50, 0.1, 0.2, 0.3, 0.4, 0.5]\n"
          ]
        }
      ],
      "source": [
        "# List : It is collection of items.\n",
        "\n",
        "a = [10, 20, 30, 40, 50]\n",
        "b = [.1, .2, .3, .4, .5]\n",
        "\n",
        "print(a+b)"
      ]
    },
    {
      "cell_type": "code",
      "execution_count": null,
      "metadata": {
        "id": "xiWtU_U_hyau"
      },
      "outputs": [],
      "source": [
        "# import the library\n",
        "\n",
        "import numpy as nm"
      ]
    },
    {
      "cell_type": "code",
      "execution_count": null,
      "metadata": {
        "colab": {
          "base_uri": "https://localhost:8080/"
        },
        "id": "CECQQG-zhyav",
        "outputId": "ead2d6bf-0ffd-4998-8edb-d48d5f42ef32"
      },
      "outputs": [
        {
          "output_type": "stream",
          "name": "stdout",
          "text": [
            "[10, 20, 30, 40, 50] <class 'list'>\n",
            "[0.1, 0.2, 0.3, 0.4, 0.5] <class 'list'>\n"
          ]
        }
      ],
      "source": [
        "a = [10, 20, 30, 40, 50]\n",
        "b = [.1, .2, .3, .4, .5]\n",
        "#    0    1   2   3   4          \n",
        "print(a, type(a))\n",
        "print(b, type(b))"
      ]
    },
    {
      "cell_type": "code",
      "execution_count": null,
      "metadata": {
        "colab": {
          "base_uri": "https://localhost:8080/"
        },
        "id": "C9VBslZNhyav",
        "outputId": "b6086bf1-04b7-45fd-d06e-30798a323064"
      },
      "outputs": [
        {
          "output_type": "stream",
          "name": "stdout",
          "text": [
            "10.1\n",
            "20.2\n",
            "30.3\n",
            "40.4\n",
            "50.5\n"
          ]
        }
      ],
      "source": [
        "# indexing \n",
        "\n",
        "for i in range(5) :\n",
        "    print(a[i] + b[i])\n",
        "\n",
        "# To avoid THIS : USE NUMPY"
      ]
    },
    {
      "cell_type": "code",
      "execution_count": null,
      "metadata": {
        "id": "FmUAyZ95hyaw"
      },
      "outputs": [],
      "source": [
        "# Array : It is ordered collection of elements.\n",
        "\n",
        "a = [10, 20, 30, 40, 50]\n",
        "b = [.1, .2, .3, .4, .5]"
      ]
    },
    {
      "cell_type": "code",
      "execution_count": null,
      "metadata": {
        "id": "usMs4Ce6hyax"
      },
      "outputs": [],
      "source": [
        "# convert sequence into array\n",
        "\n",
        "# 1. array()\n",
        "\n",
        "arr1 = nm.array(a)\n",
        "arr2 = nm.array(b)"
      ]
    },
    {
      "cell_type": "code",
      "execution_count": null,
      "metadata": {
        "colab": {
          "base_uri": "https://localhost:8080/"
        },
        "id": "ZAvWIzRRhyax",
        "outputId": "e1c3f3f6-6aa3-4b95-e835-8c0718b8c6d9"
      },
      "outputs": [
        {
          "output_type": "stream",
          "name": "stdout",
          "text": [
            "[10 20 30 40 50] <class 'numpy.ndarray'>\n",
            "[0.1 0.2 0.3 0.4 0.5] <class 'numpy.ndarray'>\n"
          ]
        }
      ],
      "source": [
        "print(arr1, type(arr1))\n",
        "print(arr2, type(arr2))"
      ]
    },
    {
      "cell_type": "code",
      "execution_count": null,
      "metadata": {
        "id": "5YuNp9B3hyay"
      },
      "outputs": [],
      "source": [
        "# Arithmatic Operations :"
      ]
    },
    {
      "cell_type": "code",
      "execution_count": null,
      "metadata": {
        "colab": {
          "base_uri": "https://localhost:8080/"
        },
        "id": "bZZMFKVzhyay",
        "outputId": "4435d752-53ac-455c-ca7b-e3ad68ec4879"
      },
      "outputs": [
        {
          "output_type": "stream",
          "name": "stdout",
          "text": [
            "[10.1 20.2 30.3 40.4 50.5]\n"
          ]
        }
      ],
      "source": [
        "# Addition :\n",
        "\n",
        "add = arr1 + arr2\n",
        "print(add)"
      ]
    },
    {
      "cell_type": "code",
      "execution_count": null,
      "metadata": {
        "colab": {
          "base_uri": "https://localhost:8080/"
        },
        "id": "VzZHMJ6Hhyaz",
        "outputId": "232e820c-3a00-4eab-8614-873ec835713d"
      },
      "outputs": [
        {
          "output_type": "stream",
          "name": "stdout",
          "text": [
            "[ 9.9 19.8 29.7 39.6 49.5]\n"
          ]
        }
      ],
      "source": [
        "# Subtraction :\n",
        "\n",
        "sub = arr1 - arr2\n",
        "print(sub)"
      ]
    },
    {
      "cell_type": "code",
      "execution_count": null,
      "metadata": {
        "colab": {
          "base_uri": "https://localhost:8080/"
        },
        "id": "tREyC5Z-hyaz",
        "outputId": "ec1126aa-9739-49de-c109-0e1229a5f00f"
      },
      "outputs": [
        {
          "output_type": "stream",
          "name": "stdout",
          "text": [
            "[ 1.  4.  9. 16. 25.]\n"
          ]
        }
      ],
      "source": [
        "# Multiplication \n",
        "\n",
        "mult = arr1 * arr2\n",
        "print(mult)"
      ]
    },
    {
      "cell_type": "code",
      "execution_count": null,
      "metadata": {
        "colab": {
          "base_uri": "https://localhost:8080/"
        },
        "id": "2rrLI12uhyaz",
        "outputId": "b29325cb-2566-400b-c7c6-e7b15122064d"
      },
      "outputs": [
        {
          "output_type": "stream",
          "name": "stdout",
          "text": [
            "[100. 100. 100. 100. 100.]\n"
          ]
        }
      ],
      "source": [
        "# Division \n",
        "\n",
        "div = arr1 / arr2\n",
        "print(div)"
      ]
    },
    {
      "cell_type": "code",
      "execution_count": null,
      "metadata": {
        "colab": {
          "base_uri": "https://localhost:8080/"
        },
        "id": "HcfWwoNhhya0",
        "outputId": "625d99a5-f366-4aa8-e6f2-519ac356a4ef"
      },
      "outputs": [
        {
          "output_type": "stream",
          "name": "stdout",
          "text": [
            "[ 99.  99. 100.  99. 100.]\n"
          ]
        }
      ],
      "source": [
        "# floor Division (//)\n",
        "\n",
        "fdiv = arr1 // arr2\n",
        "print(fdiv)"
      ]
    },
    {
      "cell_type": "code",
      "execution_count": null,
      "metadata": {
        "colab": {
          "base_uri": "https://localhost:8080/"
        },
        "id": "UMtWODCNhya0",
        "outputId": "a615a08b-f9e2-432d-a222-e6c7a2779338"
      },
      "outputs": [
        {
          "output_type": "stream",
          "name": "stdout",
          "text": [
            "[1.00000000e-01 2.00000000e-01 1.11022302e-15 4.00000000e-01\n",
            " 0.00000000e+00]\n"
          ]
        }
      ],
      "source": [
        "# mod % (remainder)\n",
        "\n",
        "mod = arr1 % arr2\n",
        "print(mod)"
      ]
    },
    {
      "cell_type": "code",
      "execution_count": null,
      "metadata": {
        "colab": {
          "base_uri": "https://localhost:8080/"
        },
        "id": "Anfhe2_jhya0",
        "outputId": "509ab86f-8571-4d50-dc89-bec56ca544cf"
      },
      "outputs": [
        {
          "output_type": "stream",
          "name": "stdout",
          "text": [
            "[1.25892541 1.8205642  2.77419111 4.3734483  7.07106781]\n"
          ]
        }
      ],
      "source": [
        "# exp (**)\n",
        "\n",
        "pow = arr1 ** arr2\n",
        "print(pow)"
      ]
    },
    {
      "cell_type": "code",
      "execution_count": null,
      "metadata": {
        "id": "BvqL5u_Jhya1"
      },
      "outputs": [],
      "source": [
        "# 2. Indexing / Slicing :"
      ]
    },
    {
      "cell_type": "code",
      "execution_count": null,
      "metadata": {
        "colab": {
          "base_uri": "https://localhost:8080/"
        },
        "id": "RaFACo0Thya1",
        "outputId": "b123246b-d555-4664-f3a3-8af11426ebce"
      },
      "outputs": [
        {
          "output_type": "execute_result",
          "data": {
            "text/plain": [
              "array([10. , 20. , 30. , 40. , 50. ,  0.1,  0.2,  0.3,  0.4,  0.5])"
            ]
          },
          "metadata": {},
          "execution_count": 18
        }
      ],
      "source": [
        "c = [10, 20, 30, 40, 50, 0.1, 0.2, 0.3, 0.4, 0.5]    # List\n",
        "\n",
        "# convert list into array\n",
        "\n",
        "arr3 = nm.array(c)\n",
        "arr3"
      ]
    },
    {
      "cell_type": "code",
      "execution_count": null,
      "metadata": {
        "colab": {
          "base_uri": "https://localhost:8080/"
        },
        "id": "Jjs-x9i_hya1",
        "outputId": "0271bacf-bc8e-4de1-c7b6-80640d6468a5"
      },
      "outputs": [
        {
          "output_type": "stream",
          "name": "stdout",
          "text": [
            "20.0 20.0\n",
            "40.0 40.0\n",
            "50.0 50.0\n",
            "0.3 0.3\n",
            "0.5 0.5\n"
          ]
        }
      ],
      "source": [
        "# To ascess elements : Indexing : 1. Positive 0     2. Negative -1\n",
        "\n",
        "# Display : 20, 40, 50, 0.3, 0.5\n",
        "\n",
        "print(arr3[1],arr3[-9] )\n",
        "print(arr3[3],arr3[-7] )\n",
        "print(arr3[4],arr3[-6] )\n",
        "print(arr3[7],arr3[-3] )\n",
        "print(arr3[9],arr3[-1] )"
      ]
    },
    {
      "cell_type": "code",
      "execution_count": null,
      "metadata": {
        "colab": {
          "base_uri": "https://localhost:8080/"
        },
        "id": "zCV03gPhhya1",
        "outputId": "5bb6eecd-1f9d-498c-c191-0e27506da739"
      },
      "outputs": [
        {
          "output_type": "stream",
          "name": "stdout",
          "text": [
            "[10. 20. 30. 40. 50.]\n",
            "[0.3 0.4 0.5]\n",
            "[10.  20.  30.  40.  50.   0.1  0.2  0.3  0.4]\n",
            "[10.  40.   0.2  0.5]\n"
          ]
        }
      ],
      "source": [
        "# Slicing : array_name[start=0 : end=-1 : steps=1]\n",
        "\n",
        "# array([10. , 20. , 30. , 40. , 50. ,  0.1,  0.2,  0.3,  0.4,  0.5])\n",
        "# Display :\n",
        "# 1. [10, 20, 30, 40, 50]\n",
        "# 2. [0.3, 0.4, 0.5]\n",
        "# 3. [10, 20, 30, 40, 50, 0.1, 0.2, 0.3, 0.4]\n",
        "# 4. [10, , 40,  0.2,  0.5]\n",
        "\n",
        "print(arr3[ : 5])\n",
        "print(arr3[-3 :])\n",
        "print(arr3[0 :9 ])\n",
        "print(arr3[0 :  : 3])"
      ]
    },
    {
      "cell_type": "code",
      "execution_count": null,
      "metadata": {
        "id": "g4Sfugv6hya2"
      },
      "outputs": [],
      "source": [
        "# 2 - D Array : Matrix    Rows , Columns\n",
        "\n",
        "a = [10,20,30]\n",
        "b = [40,50,60]\n",
        "c = [70,80,90]\n",
        "d = [70,80,90]\n",
        "\n",
        "arr4 = nm.array([a,b,c,d])"
      ]
    },
    {
      "cell_type": "code",
      "execution_count": null,
      "metadata": {
        "colab": {
          "base_uri": "https://localhost:8080/"
        },
        "id": "Xg6VF6EMhya2",
        "outputId": "ac79a9a3-180e-4c1f-b467-0f4c8473dc34"
      },
      "outputs": [
        {
          "output_type": "stream",
          "name": "stdout",
          "text": [
            "[[10 20 30]\n",
            " [40 50 60]\n",
            " [70 80 90]\n",
            " [70 80 90]] <class 'numpy.ndarray'>\n"
          ]
        }
      ],
      "source": [
        "print(arr4, type(arr4))"
      ]
    },
    {
      "cell_type": "code",
      "execution_count": null,
      "metadata": {
        "colab": {
          "base_uri": "https://localhost:8080/"
        },
        "id": "9sZxk8Bbhya2",
        "outputId": "0628510f-635d-4be4-e9e0-6eba595c20a9"
      },
      "outputs": [
        {
          "output_type": "stream",
          "name": "stdout",
          "text": [
            "2\n"
          ]
        }
      ],
      "source": [
        "# attributes : dimensions : ndim, size : size, shape : shape\n",
        "\n",
        "# dimensions : dim\n",
        "print(arr4.ndim)"
      ]
    },
    {
      "cell_type": "code",
      "execution_count": null,
      "metadata": {
        "colab": {
          "base_uri": "https://localhost:8080/"
        },
        "id": "NS5_Vc_mhya2",
        "outputId": "e52e1769-36c0-4457-8577-040eeccbc150"
      },
      "outputs": [
        {
          "output_type": "stream",
          "name": "stdout",
          "text": [
            "12\n"
          ]
        }
      ],
      "source": [
        "# size \n",
        "print(arr4.size)"
      ]
    },
    {
      "cell_type": "code",
      "execution_count": null,
      "metadata": {
        "colab": {
          "base_uri": "https://localhost:8080/"
        },
        "id": "uFUCp_zVhya2",
        "outputId": "85cffedc-432e-4f66-b55a-49fa16fdf30e"
      },
      "outputs": [
        {
          "output_type": "stream",
          "name": "stdout",
          "text": [
            "(4, 3)\n"
          ]
        }
      ],
      "source": [
        "# shape\n",
        "print(arr4.shape)      "
      ]
    },
    {
      "cell_type": "code",
      "execution_count": null,
      "metadata": {
        "colab": {
          "base_uri": "https://localhost:8080/"
        },
        "id": "o19oT1ZEhya3",
        "outputId": "50ef7fb2-f172-4d3e-a3e8-30e459595c68"
      },
      "outputs": [
        {
          "output_type": "stream",
          "name": "stdout",
          "text": [
            "[10 20 30]\n",
            "10\n",
            "20\n",
            "30\n"
          ]
        }
      ],
      "source": [
        "# Accessing elements :\n",
        "\n",
        "print(arr4[0])\n",
        "print(arr4[0,0])\n",
        "print(arr4[0,1])\n",
        "print(arr4[0,2])"
      ]
    },
    {
      "cell_type": "code",
      "execution_count": null,
      "metadata": {
        "colab": {
          "base_uri": "https://localhost:8080/"
        },
        "id": "fz6qAFB7hya3",
        "outputId": "2783d67d-236f-4300-9de0-a25e870b0ecd"
      },
      "outputs": [
        {
          "output_type": "stream",
          "name": "stdout",
          "text": [
            "50\n",
            "70\n",
            "90\n"
          ]
        }
      ],
      "source": [
        "# display : 50, 70, 90\n",
        "\n",
        "print(arr4[1,1])\n",
        "print(arr4[2,0])\n",
        "print(arr4[2,2])"
      ]
    },
    {
      "cell_type": "code",
      "execution_count": null,
      "metadata": {
        "colab": {
          "base_uri": "https://localhost:8080/"
        },
        "id": "orH6vrtEhya3",
        "outputId": "5fd1030c-6828-47e5-fab2-b0fa928941d1"
      },
      "outputs": [
        {
          "output_type": "execute_result",
          "data": {
            "text/plain": [
              "array([[ 1,  2,  3,  4,  5,  6,  7],\n",
              "       [11, 12, 13, 14, 15, 16, 17],\n",
              "       [21, 22, 23, 24, 25, 26, 27],\n",
              "       [31, 32, 33, 34, 35, 36, 37],\n",
              "       [41, 42, 43, 44, 45, 46, 47]])"
            ]
          },
          "metadata": {},
          "execution_count": 28
        }
      ],
      "source": [
        "# create a 5, 7 matrix\n",
        "\n",
        "arr5 = nm.array([range(1,8),range(11,18),range(21,28),range(31,38),range(41,48) ])\n",
        "\n",
        "arr5"
      ]
    },
    {
      "cell_type": "code",
      "execution_count": null,
      "metadata": {
        "colab": {
          "base_uri": "https://localhost:8080/"
        },
        "id": "XMiIXSkFhya3",
        "outputId": "9863159c-9332-477b-a356-475f5ae30055"
      },
      "outputs": [
        {
          "output_type": "stream",
          "name": "stdout",
          "text": [
            "2\n",
            "35\n",
            "(5, 7)\n"
          ]
        }
      ],
      "source": [
        "# attributes :\n",
        "\n",
        "print(arr5.ndim)\n",
        "print(arr5.size)\n",
        "print(arr5.shape)"
      ]
    },
    {
      "cell_type": "code",
      "execution_count": null,
      "metadata": {
        "colab": {
          "base_uri": "https://localhost:8080/"
        },
        "id": "RgafFAdrhya3",
        "outputId": "83eb206f-fb0d-4238-81f7-2b231e4d0773"
      },
      "outputs": [
        {
          "output_type": "stream",
          "name": "stdout",
          "text": [
            "[1 2 3 4]\n"
          ]
        }
      ],
      "source": [
        "# Display :\n",
        "# 1. [1,  2,  3,  4]\n",
        "# 2. [13, 14, 15, 16, 17]\n",
        "# 3. [42, 43, 44, 45, 46]\n",
        "\n",
        "print(arr5[0, 0:4])    # To select columns we did slicing "
      ]
    },
    {
      "cell_type": "code",
      "execution_count": null,
      "metadata": {
        "colab": {
          "base_uri": "https://localhost:8080/"
        },
        "id": "OqDExMzWhya3",
        "outputId": "3ac03be9-971d-4557-ea92-e54e85dd05b5"
      },
      "outputs": [
        {
          "output_type": "stream",
          "name": "stdout",
          "text": [
            "[13 14 15 16 17]\n"
          ]
        }
      ],
      "source": [
        "print(arr5[1, 2:])"
      ]
    },
    {
      "cell_type": "code",
      "execution_count": null,
      "metadata": {
        "colab": {
          "base_uri": "https://localhost:8080/"
        },
        "id": "9dJUnfGxhya4",
        "outputId": "5efe0918-1107-4c3f-ada3-fe2a870f9d7d"
      },
      "outputs": [
        {
          "output_type": "stream",
          "name": "stdout",
          "text": [
            "[42 43 44 45 46]\n"
          ]
        }
      ],
      "source": [
        "print(arr5[4, 1:6])"
      ]
    },
    {
      "cell_type": "code",
      "execution_count": null,
      "metadata": {
        "colab": {
          "base_uri": "https://localhost:8080/"
        },
        "id": "mS_5UYYmhya4",
        "outputId": "86de25b5-b689-4561-820d-4d243e7d39d4"
      },
      "outputs": [
        {
          "output_type": "stream",
          "name": "stdout",
          "text": [
            "[ 1 11 21]\n"
          ]
        }
      ],
      "source": [
        "# Display Column Values : 1 to 21\n",
        "\n",
        "print(arr5[ 0:3 , 0])"
      ]
    },
    {
      "cell_type": "code",
      "execution_count": null,
      "metadata": {
        "colab": {
          "base_uri": "https://localhost:8080/"
        },
        "id": "W6MPZasLhya4",
        "outputId": "6c15167c-0eee-4d35-d8d1-8b53cdae8c1d"
      },
      "outputs": [
        {
          "output_type": "stream",
          "name": "stdout",
          "text": [
            "[[13 14 15]\n",
            " [23 24 25]\n",
            " [33 34 35]]\n"
          ]
        }
      ],
      "source": [
        "# Display\n",
        "#                13, 14, 15, \n",
        "#                23, 24, 25, \n",
        "#                33, 34, 35,\n",
        "\n",
        "print(arr5[ 1:4   ,  2 : 5 ])   # here, (1:4) is used to select the rows and (1:5) is used to select the columns. "
      ]
    },
    {
      "cell_type": "code",
      "execution_count": null,
      "metadata": {
        "colab": {
          "base_uri": "https://localhost:8080/"
        },
        "id": "cwdzWfaahya4",
        "outputId": "dfa0427c-79a7-46a0-b57d-6339fee2e26a"
      },
      "outputs": [
        {
          "output_type": "stream",
          "name": "stdout",
          "text": [
            "[[ 1  2  3  4  5  6  7]\n",
            " [21 22 23 24 25 26 27]\n",
            " [41 42 43 44 45 46 47]]\n"
          ]
        }
      ],
      "source": [
        "'''\n",
        "  0    [ 1,  2,  3,  4,  5,  6,  7],\n",
        "       \n",
        "  2     [21, 22, 23, 24, 25, 26, 27],\n",
        "      \n",
        "  4     [41, 42, 43, 44, 45, 46, 47]\n",
        "       \n",
        "'''   \n",
        "#  here, [0:5:2] = [start, stop, step], : = columns\n",
        "print(arr5[0 : 5 : 2    ,  : ])"
      ]
    },
    {
      "cell_type": "markdown",
      "metadata": {
        "id": "FE6WzJk3hya4"
      },
      "source": [
        "### 3 D Array :"
      ]
    },
    {
      "cell_type": "code",
      "execution_count": null,
      "metadata": {
        "id": "gPgjMXikhya5"
      },
      "outputs": [],
      "source": [
        "# 3 X 3 Color Image \n",
        "'''\n",
        "\n",
        "12  15  17                 45   56   67                    100  102  103                  0      \n",
        "21  34  12                 44   76   89                    121  133  145                  1\n",
        "23  33  13                 54   67   78                    143  134  122                  2\n",
        "\n",
        "Rows Columns Table\n",
        "\n",
        "'''\n",
        "\n",
        "# create a 3D array :\n",
        "\n",
        "arr6 = nm.array([[[12, 15, 17], [21,34,12], [23, 33,13]],\n",
        "                 [[45,56, 67], [44,76,89], [54,67,78]], \n",
        "                 [[100,102,103], [121,133,145], [143,134,122]]])"
      ]
    },
    {
      "cell_type": "code",
      "execution_count": null,
      "metadata": {
        "colab": {
          "base_uri": "https://localhost:8080/"
        },
        "id": "Jfj_Bjs3hya6",
        "outputId": "ca5688c2-6e3c-4c94-8936-eda31da51b06"
      },
      "outputs": [
        {
          "output_type": "stream",
          "name": "stdout",
          "text": [
            " Minimum value of arr1 : 145\n"
          ]
        }
      ],
      "source": [
        "# arr6\n",
        "print(\" Minimum value of arr1 :\", arr6.max())\n"
      ]
    },
    {
      "cell_type": "code",
      "execution_count": null,
      "metadata": {
        "colab": {
          "base_uri": "https://localhost:8080/"
        },
        "id": "f36lnO4Hhya6",
        "outputId": "2b9805f4-6432-480c-864b-c40d89660402"
      },
      "outputs": [
        {
          "output_type": "stream",
          "name": "stdout",
          "text": [
            "3\n",
            "27\n",
            "(3, 3, 3)\n"
          ]
        }
      ],
      "source": [
        "# attributes :\n",
        "\n",
        "print(arr6.ndim)\n",
        "print(arr6.size)\n",
        "print(arr6.shape)       # z, x, y"
      ]
    },
    {
      "cell_type": "code",
      "execution_count": null,
      "metadata": {
        "colab": {
          "base_uri": "https://localhost:8080/"
        },
        "id": "iIdEz8oIhya6",
        "outputId": "02947c1f-b8fb-4554-e106-25d36af962dc"
      },
      "outputs": [
        {
          "output_type": "stream",
          "name": "stdout",
          "text": [
            "100\n",
            "76\n",
            "134\n",
            "33\n"
          ]
        }
      ],
      "source": [
        "# Indexing :\n",
        "\n",
        "# display : 100 , 76, 134, 33\n",
        "print(arr6[2,0,0])\n",
        "print(arr6[1,1,1])\n",
        "print(arr6[2,2,1])\n",
        "print(arr6[0,2,1])"
      ]
    },
    {
      "cell_type": "code",
      "execution_count": null,
      "metadata": {
        "id": "EdZD9bj8hya6"
      },
      "outputs": [],
      "source": [
        "# slicing :\n"
      ]
    },
    {
      "cell_type": "code",
      "execution_count": null,
      "metadata": {
        "colab": {
          "base_uri": "https://localhost:8080/"
        },
        "id": "Hoc0Bwi3hya6",
        "outputId": "3dc938fc-3463-4f59-9379-85a42360fa4c"
      },
      "outputs": [
        {
          "output_type": "stream",
          "name": "stdout",
          "text": [
            "[[45 56 67]\n",
            " [44 76 89]]\n"
          ]
        }
      ],
      "source": [
        "'''Dsiplay : \n",
        "\n",
        "[45,  56,  67]\n",
        "[ 44,  76,  89]\n",
        "\n",
        "'''\n",
        "print(arr6[1, :2 , ])\n"
      ]
    },
    {
      "cell_type": "markdown",
      "metadata": {
        "id": "WYytZMiuhya6"
      },
      "source": [
        "####  Arithmatic Functions : min() , max(), sum()"
      ]
    },
    {
      "cell_type": "code",
      "execution_count": null,
      "metadata": {
        "colab": {
          "base_uri": "https://localhost:8080/"
        },
        "id": "muztQYd4hya7",
        "outputId": "8dbb0c0c-cb6a-42f6-df45-7c980e12f4a2"
      },
      "outputs": [
        {
          "output_type": "stream",
          "name": "stdout",
          "text": [
            "[10 20 30 40 50]\n",
            "[0.1 0.2 0.3 0.4 0.5]\n",
            "[10.  20.  30.  40.  50.   0.1  0.2  0.3  0.4  0.5]\n",
            "[[10 20 30]\n",
            " [40 50 60]\n",
            " [70 80 90]]\n",
            "[[ 1  2  3  4  5  6  7]\n",
            " [11 12 13 14 15 16 17]\n",
            " [21 22 23 24 25 26 27]\n",
            " [31 32 33 34 35 36 37]\n",
            " [41 42 43 44 45 46 47]]\n",
            "[[[ 12  15  17]\n",
            "  [ 21  34  12]\n",
            "  [ 23  33  13]]\n",
            "\n",
            " [[ 45  56  67]\n",
            "  [ 44  76  89]\n",
            "  [ 54  67  78]]\n",
            "\n",
            " [[100 102 103]\n",
            "  [121 133 145]\n",
            "  [143 134 122]]]\n"
          ]
        }
      ],
      "source": [
        "print(arr1)\n",
        "print(arr2)\n",
        "print(arr3)\n",
        "print(arr4)\n",
        "print(arr5)\n",
        "print(arr6)\n"
      ]
    },
    {
      "cell_type": "code",
      "execution_count": null,
      "metadata": {
        "colab": {
          "base_uri": "https://localhost:8080/"
        },
        "id": "y96n6DdThya7",
        "outputId": "53c5b3a0-e822-4fba-ed6a-11bfaab61fd2"
      },
      "outputs": [
        {
          "output_type": "stream",
          "name": "stdout",
          "text": [
            " Minimum value of arr1 : 10\n",
            " Minimum value of arr2 : 0.1\n",
            " Minimum value of arr3 : 0.1\n"
          ]
        }
      ],
      "source": [
        "# min() : returns minimum value\n",
        "\n",
        "print(\" Minimum value of arr1 :\", arr1.min())\n",
        "print(\" Minimum value of arr2 :\", arr2.min())\n",
        "print(\" Minimum value of arr3 :\", arr3.min())"
      ]
    },
    {
      "cell_type": "code",
      "execution_count": null,
      "metadata": {
        "colab": {
          "base_uri": "https://localhost:8080/"
        },
        "id": "_SWLLa26hya7",
        "outputId": "bafd5a7d-10ba-4304-8af2-b89e965f3969"
      },
      "outputs": [
        {
          "output_type": "stream",
          "name": "stdout",
          "text": [
            " Maximum value of arr1 : 50\n",
            " Maximum value of arr2 : 0.5\n",
            " Maximum value of arr3 : 50.0\n"
          ]
        }
      ],
      "source": [
        "# max() : return maximum value\n",
        "\n",
        "print(\" Maximum value of arr1 :\", arr1.max())\n",
        "print(\" Maximum value of arr2 :\", arr2.max())\n",
        "print(\" Maximum value of arr3 :\", arr3.max())"
      ]
    },
    {
      "cell_type": "code",
      "execution_count": null,
      "metadata": {
        "colab": {
          "base_uri": "https://localhost:8080/"
        },
        "id": "4MLzp0Behya7",
        "outputId": "78562af8-0ca6-44b3-b5ed-09fc7b9890c6"
      },
      "outputs": [
        {
          "output_type": "stream",
          "name": "stdout",
          "text": [
            " Sum of arr1 : 150\n",
            " Sum of arr2 : 1.5\n",
            " Sum of arr3 : 151.5\n"
          ]
        }
      ],
      "source": [
        "# sum()\n",
        "\n",
        "print(\" Sum of arr1 :\", arr1.sum())\n",
        "print(\" Sum of arr2 :\", arr2.sum())\n",
        "print(\" Sum of arr3 :\", arr3.sum())"
      ]
    },
    {
      "cell_type": "code",
      "execution_count": null,
      "metadata": {
        "id": "u_ZvQWNdhya7"
      },
      "outputs": [],
      "source": [
        "# Note : Columns : axis = 0               Rows : axis = 1"
      ]
    },
    {
      "cell_type": "code",
      "execution_count": null,
      "metadata": {
        "colab": {
          "base_uri": "https://localhost:8080/"
        },
        "id": "AOu4z28Lhya7",
        "outputId": "f12338df-3ef8-434d-ed23-20b434eb20b6"
      },
      "outputs": [
        {
          "output_type": "execute_result",
          "data": {
            "text/plain": [
              "array([[ 11,  22,  33,  44],\n",
              "       [-10, -50,  60,  70],\n",
              "       [ 15,  67, -89,  54]])"
            ]
          },
          "metadata": {},
          "execution_count": 47
        }
      ],
      "source": [
        "arr7 = nm.array([[11,22,33,44], [-10, -50, 60, 70], [15, 67, -89, 54]])\n",
        "arr7"
      ]
    },
    {
      "cell_type": "code",
      "execution_count": null,
      "metadata": {
        "colab": {
          "base_uri": "https://localhost:8080/"
        },
        "id": "Bj43hxkUhya8",
        "outputId": "eb2860da-a4a0-4dc2-ef42-bda55a2f70f4"
      },
      "outputs": [
        {
          "output_type": "stream",
          "name": "stdout",
          "text": [
            "[ 11 -50 -89]\n"
          ]
        }
      ],
      "source": [
        "# Display row wise min values \n",
        "\n",
        "print(arr7.min(axis = 1))"
      ]
    },
    {
      "cell_type": "code",
      "execution_count": null,
      "metadata": {
        "colab": {
          "base_uri": "https://localhost:8080/"
        },
        "id": "onvrIWnPhya8",
        "outputId": "81d9aa99-e1bb-4029-b086-af8ae84d272e"
      },
      "outputs": [
        {
          "output_type": "stream",
          "name": "stdout",
          "text": [
            "[44 70 67]\n"
          ]
        }
      ],
      "source": [
        "# Display row wise max values \n",
        "\n",
        "print(arr7.max(axis = 1))"
      ]
    },
    {
      "cell_type": "code",
      "execution_count": null,
      "metadata": {
        "colab": {
          "base_uri": "https://localhost:8080/"
        },
        "id": "LOA-pNR_hya8",
        "outputId": "bdfcdae6-a92e-49ca-f9ea-e1db3051d2a9"
      },
      "outputs": [
        {
          "output_type": "stream",
          "name": "stdout",
          "text": [
            "[110  70  47]\n"
          ]
        }
      ],
      "source": [
        "# Display row wise sum\n",
        "\n",
        "print(arr7.sum(axis = 1))"
      ]
    },
    {
      "cell_type": "code",
      "execution_count": null,
      "metadata": {
        "colab": {
          "base_uri": "https://localhost:8080/"
        },
        "id": "ERIzjUTrhya8",
        "outputId": "4df77d62-a97e-4cf2-d69b-ff914e2935ea"
      },
      "outputs": [
        {
          "output_type": "stream",
          "name": "stdout",
          "text": [
            "[-10 -50 -89  44]\n"
          ]
        }
      ],
      "source": [
        "# Display column wise min values \n",
        "\n",
        "print(arr7.min(axis = 0))"
      ]
    },
    {
      "cell_type": "code",
      "execution_count": null,
      "metadata": {
        "colab": {
          "base_uri": "https://localhost:8080/"
        },
        "id": "iOYnfhp1hya8",
        "outputId": "f2c9cc29-1e0d-4270-e10c-82c4c148d972"
      },
      "outputs": [
        {
          "output_type": "stream",
          "name": "stdout",
          "text": [
            "[15 67 60 70]\n"
          ]
        }
      ],
      "source": [
        "# Display column wise max values \n",
        "\n",
        "print(arr7.max(axis = 0))"
      ]
    },
    {
      "cell_type": "code",
      "execution_count": null,
      "metadata": {
        "colab": {
          "base_uri": "https://localhost:8080/"
        },
        "id": "ED24CMmehya8",
        "outputId": "8f810e0f-7373-4d26-d6be-c1edb051fa78"
      },
      "outputs": [
        {
          "output_type": "stream",
          "name": "stdout",
          "text": [
            "[ 16  39   4 168]\n"
          ]
        }
      ],
      "source": [
        "# Display column wise sum\n",
        "\n",
        "print(arr7.sum(axis = 0))"
      ]
    },
    {
      "cell_type": "code",
      "execution_count": null,
      "metadata": {
        "id": "FBXjCJXJhya9"
      },
      "outputs": [],
      "source": [
        "# min() max() sum() + rows : '1', columns : '0'   + index/slicing "
      ]
    },
    {
      "cell_type": "code",
      "execution_count": null,
      "metadata": {
        "colab": {
          "base_uri": "https://localhost:8080/"
        },
        "id": "q3gbhEmHhya9",
        "outputId": "c0ea0a85-5f5e-465d-ea94-607835ee8d48"
      },
      "outputs": [
        {
          "output_type": "stream",
          "name": "stdout",
          "text": [
            "-89\n"
          ]
        }
      ],
      "source": [
        "# Find main value in 3rd row.\n",
        "\n",
        "print(arr7.min(axis = 1)[2])"
      ]
    },
    {
      "cell_type": "code",
      "execution_count": null,
      "metadata": {
        "colab": {
          "base_uri": "https://localhost:8080/"
        },
        "id": "KLzuo4R0hya9",
        "outputId": "229b4d10-9ec7-4fc9-b29c-ecaa6eccd7fe"
      },
      "outputs": [
        {
          "output_type": "stream",
          "name": "stdout",
          "text": [
            "67\n"
          ]
        }
      ],
      "source": [
        "# Find max value in 2nd column\n",
        "\n",
        "print(arr7.max(0)[1])"
      ]
    },
    {
      "cell_type": "code",
      "execution_count": null,
      "metadata": {
        "colab": {
          "base_uri": "https://localhost:8080/"
        },
        "id": "k0yXZxYzhya9",
        "outputId": "f4f37cc2-6dca-4229-891f-f80a419cea26"
      },
      "outputs": [
        {
          "output_type": "stream",
          "name": "stdout",
          "text": [
            "110\n"
          ]
        }
      ],
      "source": [
        "# Find sum of all elements of 1st row.\n",
        "\n",
        "print(arr7.sum(1)[0])\n"
      ]
    },
    {
      "cell_type": "code",
      "execution_count": null,
      "metadata": {
        "colab": {
          "base_uri": "https://localhost:8080/"
        },
        "id": "02aW_7uGhya9",
        "outputId": "0ae13fae-863b-46ca-a0b9-be5eb43f6dde"
      },
      "outputs": [
        {
          "output_type": "stream",
          "name": "stdout",
          "text": [
            "[[ 11  22  33  44]\n",
            " [-10 -50  60  70]\n",
            " [ 15  67 -89  54]]\n",
            " Dimensions : 2 \t Size : 12 \t Shape : (3, 4)\n",
            "[[ 11  22  33  44 -10 -50]\n",
            " [ 60  70  15  67 -89  54]]\n",
            " Dimensions : 2 \t Size : 12 \t Shape : (2, 6)\n"
          ]
        }
      ],
      "source": [
        "# reshape()\n",
        "\n",
        "arr7 = nm.array([[11,22,33,44], [-10, -50, 60, 70], [15, 67, -89, 54]])\n",
        "\n",
        "print(arr7)\n",
        "print(\" Dimensions : {} \\t Size : {} \\t Shape : {}\".format(arr7.ndim, arr7.size, arr7.shape ))\n",
        "\n",
        "# row = 3    columns = 4         =>     row = 2   column = 6\n",
        "\n",
        "arr8 = arr7.reshape(2,6)\n",
        "print(arr8)\n",
        "print(\" Dimensions : {} \\t Size : {} \\t Shape : {}\".format(arr8.ndim, arr8.size, arr8.shape ))"
      ]
    },
    {
      "cell_type": "code",
      "execution_count": null,
      "metadata": {
        "id": "krmR3HRfhya-"
      },
      "outputs": [],
      "source": [
        "import numpy as nm"
      ]
    },
    {
      "cell_type": "code",
      "execution_count": null,
      "metadata": {
        "id": "G-uZoJM6hya-"
      },
      "outputs": [],
      "source": [
        "# python : range(start , end, steps )\n",
        "\n",
        "# create 1 to 100.\n",
        "\n",
        "a = range(1, 101 )"
      ]
    },
    {
      "cell_type": "code",
      "execution_count": null,
      "metadata": {
        "colab": {
          "base_uri": "https://localhost:8080/"
        },
        "id": "_1J6C5Yohya-",
        "outputId": "61cbab31-7d7f-467e-8bf9-f36de0fabbb6"
      },
      "outputs": [
        {
          "output_type": "stream",
          "name": "stdout",
          "text": [
            "(1, 2, 3, 4, 5, 6, 7, 8, 9, 10, 11, 12, 13, 14, 15, 16, 17, 18, 19, 20, 21, 22, 23, 24, 25, 26, 27, 28, 29, 30, 31, 32, 33, 34, 35, 36, 37, 38, 39, 40, 41, 42, 43, 44, 45, 46, 47, 48, 49, 50, 51, 52, 53, 54, 55, 56, 57, 58, 59, 60, 61, 62, 63, 64, 65, 66, 67, 68, 69, 70, 71, 72, 73, 74, 75, 76, 77, 78, 79, 80, 81, 82, 83, 84, 85, 86, 87, 88, 89, 90, 91, 92, 93, 94, 95, 96, 97, 98, 99, 100)\n"
          ]
        }
      ],
      "source": [
        "print(tuple(a))"
      ]
    },
    {
      "cell_type": "code",
      "execution_count": null,
      "metadata": {
        "colab": {
          "base_uri": "https://localhost:8080/"
        },
        "id": "nwyKREW3hya_",
        "outputId": "aa981d6c-76d4-452b-c33f-aa258fdcfa8f"
      },
      "outputs": [
        {
          "output_type": "stream",
          "name": "stdout",
          "text": [
            "[1, 2, 3, 4, 5, 6, 7, 8, 9, 10, 11, 12, 13, 14, 15, 16, 17, 18, 19, 20, 21, 22, 23, 24, 25, 26, 27, 28, 29, 30, 31, 32, 33, 34, 35, 36, 37, 38, 39, 40, 41, 42, 43, 44, 45, 46, 47, 48, 49, 50, 51, 52, 53, 54, 55, 56, 57, 58, 59, 60, 61, 62, 63, 64, 65, 66, 67, 68, 69, 70, 71, 72, 73, 74, 75, 76, 77, 78, 79, 80, 81, 82, 83, 84, 85, 86, 87, 88, 89, 90, 91, 92, 93, 94, 95, 96, 97, 98, 99, 100]\n"
          ]
        }
      ],
      "source": [
        "print(list(a))"
      ]
    },
    {
      "cell_type": "code",
      "execution_count": null,
      "metadata": {
        "id": "kWi7h4wbhya_"
      },
      "outputs": [],
      "source": [
        "# Sequence Generators : arange() linspace()"
      ]
    },
    {
      "cell_type": "code",
      "execution_count": null,
      "metadata": {
        "colab": {
          "base_uri": "https://localhost:8080/"
        },
        "id": "ona-OIjVhya_",
        "outputId": "45cedc82-a11e-46b7-825e-e4f797e49ec5"
      },
      "outputs": [
        {
          "output_type": "stream",
          "name": "stdout",
          "text": [
            "[  1   2   3   4   5   6   7   8   9  10  11  12  13  14  15  16  17  18\n",
            "  19  20  21  22  23  24  25  26  27  28  29  30  31  32  33  34  35  36\n",
            "  37  38  39  40  41  42  43  44  45  46  47  48  49  50  51  52  53  54\n",
            "  55  56  57  58  59  60  61  62  63  64  65  66  67  68  69  70  71  72\n",
            "  73  74  75  76  77  78  79  80  81  82  83  84  85  86  87  88  89  90\n",
            "  91  92  93  94  95  96  97  98  99 100]\n",
            "<class 'numpy.ndarray'>\n"
          ]
        }
      ],
      "source": [
        "# 1. arange(start , end, steps )\n",
        "\n",
        "b = nm.arange(1,101)\n",
        "print(b)\n",
        "\n",
        "print(type(b))"
      ]
    },
    {
      "cell_type": "code",
      "execution_count": null,
      "metadata": {
        "colab": {
          "base_uri": "https://localhost:8080/"
        },
        "id": "_eU1k7Tahya_",
        "outputId": "4c761cd7-b94e-43ae-c09a-0e0421d97629"
      },
      "outputs": [
        {
          "output_type": "stream",
          "name": "stdout",
          "text": [
            "[ 1.    3.25  5.5   7.75 10.  ]\n"
          ]
        }
      ],
      "source": [
        "# 2. linspace(start , end, interval)\n",
        "\n",
        "c = nm.linspace(1,10, 5)\n",
        "print(c)"
      ]
    },
    {
      "cell_type": "code",
      "execution_count": null,
      "metadata": {
        "colab": {
          "base_uri": "https://localhost:8080/"
        },
        "id": "08uVGsjihya_",
        "outputId": "47b28c1c-edf4-4974-d004-a756b19e99e0"
      },
      "outputs": [
        {
          "output_type": "execute_result",
          "data": {
            "text/plain": [
              "2.25"
            ]
          },
          "metadata": {},
          "execution_count": 67
        }
      ],
      "source": [
        "9/4\n"
      ]
    },
    {
      "cell_type": "code",
      "execution_count": null,
      "metadata": {
        "colab": {
          "base_uri": "https://localhost:8080/"
        },
        "id": "7SxDJPlohya_",
        "outputId": "49dd60e2-a69a-4d3e-aa27-bb2574670c20"
      },
      "outputs": [
        {
          "output_type": "execute_result",
          "data": {
            "text/plain": [
              "10.0"
            ]
          },
          "metadata": {},
          "execution_count": 68
        }
      ],
      "source": [
        "1 + 2.25 + 2.25 +2.25 + 2.25"
      ]
    },
    {
      "cell_type": "code",
      "execution_count": null,
      "metadata": {
        "id": "3VPiuatEhybA",
        "colab": {
          "base_uri": "https://localhost:8080/"
        },
        "outputId": "0452db6e-1aea-450b-871a-a655455fa69f"
      },
      "outputs": [
        {
          "output_type": "execute_result",
          "data": {
            "text/plain": [
              "array([[ 1,  2,  3,  4,  5],\n",
              "       [11, 12, 13, 14, 15],\n",
              "       [21, 22, 23, 24, 25],\n",
              "       [31, 32, 33, 34, 35],\n",
              "       [41, 42, 43, 44, 45],\n",
              "       [51, 52, 53, 54, 55],\n",
              "       [61, 62, 63, 64, 65]])"
            ]
          },
          "metadata": {},
          "execution_count": 166
        }
      ],
      "source": [
        "m1 = nm.array([range(1,6), range(11,16),range(21,26), range(31,36), range(41,46), range(51,56), range(61,66)])\n",
        "m1"
      ]
    },
    {
      "cell_type": "code",
      "execution_count": null,
      "metadata": {
        "colab": {
          "base_uri": "https://localhost:8080/"
        },
        "id": "lyKpHCRKhybA",
        "outputId": "f7e1fbac-430e-43da-bd6e-6bb74c5ca4dc"
      },
      "outputs": [
        {
          "output_type": "stream",
          "name": "stdout",
          "text": [
            "2 (7, 5) 35\n"
          ]
        }
      ],
      "source": [
        "print(m1.ndim, m1.shape, m1.size)"
      ]
    },
    {
      "cell_type": "code",
      "execution_count": null,
      "metadata": {
        "colab": {
          "base_uri": "https://localhost:8080/"
        },
        "id": "7ZaDm69bhybA",
        "outputId": "a565065d-ddc0-4a57-e47b-f7bfeafb71cd"
      },
      "outputs": [
        {
          "output_type": "stream",
          "name": "stdout",
          "text": [
            "[[ 1  2  3  4  5]\n",
            " [11 12 13 14 15]\n",
            " [21 22 23 24 25]\n",
            " [31 32 33 34 35]\n",
            " [41 42 43 44 45]\n",
            " [51 52 53 54 55]\n",
            " [61 62 63 64 65]]\n"
          ]
        }
      ],
      "source": [
        "print(m1)"
      ]
    },
    {
      "cell_type": "code",
      "execution_count": null,
      "metadata": {
        "colab": {
          "base_uri": "https://localhost:8080/"
        },
        "id": "Hk1bzFHEhybA",
        "outputId": "81b35de0-b5e3-4547-a086-02c36ba6f23d"
      },
      "outputs": [
        {
          "output_type": "stream",
          "name": "stdout",
          "text": [
            "[63 64 65]\n",
            "[63 64 65]\n"
          ]
        }
      ],
      "source": [
        "# 2. Find Max number from 3,4,5 columns\n",
        "\n",
        "print(m1.max(0)[2 : ])                    # slicing after function\n",
        "\n",
        "print(m1[ : ,  2 : ].max(0))              # slicing before function"
      ]
    },
    {
      "cell_type": "code",
      "execution_count": null,
      "metadata": {
        "colab": {
          "base_uri": "https://localhost:8080/"
        },
        "id": "ZzYHTGjohybA",
        "outputId": "3e1d1589-4787-4520-8897-bed0f380a4fe"
      },
      "outputs": [
        {
          "output_type": "stream",
          "name": "stdout",
          "text": [
            "245\n"
          ]
        }
      ],
      "source": [
        "# 3. Find sum of 5th column.\n",
        "\n",
        "print(m1.sum(0)[-1])"
      ]
    },
    {
      "cell_type": "code",
      "execution_count": null,
      "metadata": {
        "colab": {
          "base_uri": "https://localhost:8080/"
        },
        "id": "OWciQqdRhybB",
        "outputId": "668ca5ce-4232-4429-aa52-435d3207544f"
      },
      "outputs": [
        {
          "output_type": "stream",
          "name": "stdout",
          "text": [
            "51\n"
          ]
        }
      ],
      "source": [
        "# 4. Find Min value from 6 th row.\n",
        "\n",
        "print(m1.min(1)[5])"
      ]
    },
    {
      "cell_type": "markdown",
      "metadata": {
        "id": "S52c_Dx3hybB"
      },
      "source": [
        "#### Troginometric Functions"
      ]
    },
    {
      "cell_type": "code",
      "execution_count": null,
      "metadata": {
        "id": "14hXnK3uhybB"
      },
      "outputs": [],
      "source": [
        "# sin, cos, tan\n",
        "\n",
        "angles_degree = nm.array([0 , 30, 45, 60, 90, 180])\n",
        "angles_radians = (nm.pi / 180) * angles_degree"
      ]
    },
    {
      "cell_type": "code",
      "execution_count": null,
      "metadata": {
        "colab": {
          "base_uri": "https://localhost:8080/"
        },
        "id": "bjObTCxghybB",
        "outputId": "9744daba-90f8-448f-9c8d-1c5f357fe615"
      },
      "outputs": [
        {
          "output_type": "stream",
          "name": "stdout",
          "text": [
            "[0.00000000e+00 5.00000000e-01 7.07106781e-01 8.66025404e-01\n",
            " 1.00000000e+00 1.22464680e-16]\n",
            "[ 1.00000000e+00  8.66025404e-01  7.07106781e-01  5.00000000e-01\n",
            "  6.12323400e-17 -1.00000000e+00]\n",
            "[ 0.00000000e+00  5.77350269e-01  1.00000000e+00  1.73205081e+00\n",
            "  1.63312394e+16 -1.22464680e-16]\n"
          ]
        }
      ],
      "source": [
        "# Trigonometric sin\n",
        "\n",
        "a_sin = nm.sin(angles_radians)\n",
        "print(a_sin)\n",
        "\n",
        "# Trigonometric cos\n",
        "\n",
        "a_cos = nm.cos(angles_radians)\n",
        "print(a_cos)\n",
        "\n",
        "# Trigonometric tan\n",
        "\n",
        "a_tan = nm.tan(angles_radians)\n",
        "print(a_tan)\n"
      ]
    },
    {
      "cell_type": "markdown",
      "metadata": {
        "id": "478Rnkt0hybB"
      },
      "source": [
        "###### floor() : removes all decimal points\n",
        "###### ceil()  :  returns to next nearest integer\n",
        "###### around() : "
      ]
    },
    {
      "cell_type": "code",
      "execution_count": null,
      "metadata": {
        "colab": {
          "base_uri": "https://localhost:8080/"
        },
        "id": "Uv6xYCp5hybB",
        "outputId": "c0061d5e-2700-415b-a45f-cff6907323b1"
      },
      "outputs": [
        {
          "output_type": "stream",
          "name": "stdout",
          "text": [
            "[1.         1.66666667 2.33333333 3.         3.66666667 4.33333333\n",
            " 5.        ]\n"
          ]
        }
      ],
      "source": [
        "arr1 = nm.linspace(1,5, 7)\n",
        "print(arr1)"
      ]
    },
    {
      "cell_type": "code",
      "execution_count": null,
      "metadata": {
        "colab": {
          "base_uri": "https://localhost:8080/"
        },
        "id": "CNDlfeHdhybC",
        "outputId": "2e1e0ac4-c2b2-44e0-b706-c54606bccdb4"
      },
      "outputs": [
        {
          "output_type": "stream",
          "name": "stdout",
          "text": [
            "Output of Floor :  [1. 1. 2. 3. 3. 4. 5.]\n",
            "Output of ceil :  [1. 2. 3. 3. 4. 5. 5.]\n",
            "Output of Around :  [1.    1.667 2.333 3.    3.667 4.333 5.   ]\n"
          ]
        }
      ],
      "source": [
        "print(\"Output of Floor : \", nm.floor(arr1))\n",
        "print(\"Output of ceil : \", nm.ceil(arr1))\n",
        "print(\"Output of Around : \", nm.around(arr1, 3))"
      ]
    },
    {
      "cell_type": "markdown",
      "metadata": {
        "id": "HVkZCi7ghybC"
      },
      "source": [
        "####  Statistical Functions : "
      ]
    },
    {
      "cell_type": "code",
      "execution_count": null,
      "metadata": {
        "colab": {
          "base_uri": "https://localhost:8080/"
        },
        "id": "6lk-LeelhybC",
        "outputId": "ab08e0e6-7acc-4c1e-a018-2217b1a86503"
      },
      "outputs": [
        {
          "output_type": "stream",
          "name": "stdout",
          "text": [
            " Mean of arr2 :  56.0\n",
            "Median of arr2 :  10.5\n"
          ]
        }
      ],
      "source": [
        "# mean() , median()\n",
        "\n",
        "arr2 = nm.array([2,4,10,46,54,5,7,643,24,11,76,54,43,4,57,65,3,6,76,543,4,57,65,44,6,5,4,4,6,56,4,6,65,4,57,6,76,5,45,4], order = 'F')\n",
        "\n",
        "print(\" Mean of arr2 : \", nm.floor(nm.mean(arr2)))\n",
        "\n",
        "print(\"Median of arr2 : \", nm.median(arr2))"
      ]
    },
    {
      "cell_type": "markdown",
      "metadata": {
        "id": "kUOSOMEMhybC"
      },
      "source": [
        "##### Generate random values"
      ]
    },
    {
      "cell_type": "code",
      "execution_count": null,
      "metadata": {
        "colab": {
          "base_uri": "https://localhost:8080/"
        },
        "id": "DpGf7OmrhybC",
        "outputId": "24939946-21cf-41db-908e-c97258d3fde0"
      },
      "outputs": [
        {
          "output_type": "execute_result",
          "data": {
            "text/plain": [
              "array([3, 3, 1, 7, 6])"
            ]
          },
          "metadata": {},
          "execution_count": 174
        }
      ],
      "source": [
        "nm.random.randint(1, 10, 5)  # start value, stop value, total random numbers required"
      ]
    },
    {
      "cell_type": "code",
      "execution_count": null,
      "metadata": {
        "id": "gI7-vdpXhybC"
      },
      "outputs": [],
      "source": [
        "# Create a 50 X 3 Matrix.    Rows : 50, columns : 3\n",
        "# Mean of each column.\n",
        "# median of each column."
      ]
    },
    {
      "cell_type": "code",
      "execution_count": null,
      "metadata": {
        "id": "NL0eua2EhybD"
      },
      "outputs": [],
      "source": [
        "arr2 = nm.array([nm.random.randint(21, 50, 50), nm.random.randint(25, 50, 50), nm.random.randint(11, 50, 50)]).reshape(50,3)\n",
        "arr2"
      ]
    },
    {
      "cell_type": "code",
      "execution_count": null,
      "metadata": {
        "colab": {
          "base_uri": "https://localhost:8080/"
        },
        "id": "-7quXVNhhybD",
        "outputId": "77ff5e4e-5092-47e6-b7e1-37f3630fd3a0"
      },
      "outputs": [
        {
          "output_type": "execute_result",
          "data": {
            "text/plain": [
              "(50, 3)"
            ]
          },
          "metadata": {},
          "execution_count": 4
        }
      ],
      "source": [
        "arr2.shape"
      ]
    },
    {
      "cell_type": "code",
      "execution_count": null,
      "metadata": {
        "colab": {
          "base_uri": "https://localhost:8080/"
        },
        "id": "TcCDQxK2hybD",
        "outputId": "0a415fcb-dad3-4af1-8385-3f964afba59b"
      },
      "outputs": [
        {
          "output_type": "execute_result",
          "data": {
            "text/plain": [
              "array([33.48, 34.2 , 31.46])"
            ]
          },
          "metadata": {},
          "execution_count": 5
        }
      ],
      "source": [
        "arr2.mean(0)"
      ]
    },
    {
      "cell_type": "code",
      "execution_count": null,
      "metadata": {
        "colab": {
          "base_uri": "https://localhost:8080/"
        },
        "id": "fQhxbAUzhybD",
        "outputId": "9f2ad819-7a87-4eef-dd98-fbd133c47b93"
      },
      "outputs": [
        {
          "output_type": "stream",
          "name": "stdout",
          "text": [
            "Median of Col1 : 31.0 \t Median of Col2 : 31.0 \t Median of Col3 : 33.0\n"
          ]
        }
      ],
      "source": [
        "print(\"Median of Col1 : {} \\t Median of Col2 : {} \\t Median of Col3 : {}\".format(nm.median(arr2[0]),nm.median(arr2[1]),nm.median(arr2[2])))"
      ]
    },
    {
      "cell_type": "code",
      "execution_count": null,
      "metadata": {
        "id": "EIdtDdKfhybD"
      },
      "outputs": [],
      "source": [
        "import numpy as nm\n",
        "import numpy.matlib"
      ]
    },
    {
      "cell_type": "code",
      "execution_count": null,
      "metadata": {
        "colab": {
          "base_uri": "https://localhost:8080/"
        },
        "id": "mc9iOdpthybD",
        "outputId": "f3a81700-5a2b-4022-bebc-27bfb76e8890"
      },
      "outputs": [
        {
          "output_type": "stream",
          "name": "stdout",
          "text": [
            "[[ 2.15583213e-316  0.00000000e+000  0.00000000e+000 -1.00000000e+000\n",
            "   1.00000000e+000]\n",
            " [-2.00000000e+000  2.00000000e+000 -1.00000000e+000  1.00000000e+000\n",
            "   0.00000000e+000]\n",
            " [ 2.00000000e+000  1.00000000e+000  1.00000000e+000  2.00000000e+000\n",
            "   0.00000000e+000]\n",
            " [ 1.00000000e+000 -1.00000000e+000  2.00000000e+000 -2.00000000e+000\n",
            "   1.00000000e+000]\n",
            " [-1.00000000e+000  0.00000000e+000 -2.00000000e+000 -1.00000000e+000\n",
            "   1.02765654e-321]]\n"
          ]
        }
      ],
      "source": [
        "# Matrix : \n",
        "\n",
        "# empty() : Creating empty matrix \n",
        "\n",
        "# 1. Create a 5X5 empty matrix\n",
        "\n",
        "a = numpy.matlib.empty((5,5))\n",
        "print(a)"
      ]
    },
    {
      "cell_type": "code",
      "execution_count": null,
      "metadata": {
        "colab": {
          "base_uri": "https://localhost:8080/"
        },
        "id": "WRuNg21ShybE",
        "outputId": "8d7e4c68-27ef-451f-e04b-e7b2258b6486"
      },
      "outputs": [
        {
          "output_type": "stream",
          "name": "stdout",
          "text": [
            "[[ 0.00000000e+00  5.77350269e-01]\n",
            " [ 1.00000000e+00  1.73205081e+00]\n",
            " [ 1.63312394e+16 -1.22464680e-16]]\n"
          ]
        }
      ],
      "source": [
        "# 2. Create a 3X2 empty matrix\n",
        "\n",
        "b = numpy.matlib.empty((3,2))\n",
        "print(b)"
      ]
    },
    {
      "cell_type": "code",
      "execution_count": null,
      "metadata": {
        "colab": {
          "base_uri": "https://localhost:8080/"
        },
        "id": "ZBzUbvcZhybE",
        "outputId": "a123cadf-e7f5-45ba-a128-43ef26f4c01d"
      },
      "outputs": [
        {
          "output_type": "stream",
          "name": "stdout",
          "text": [
            "[[0. 0. 0. 0. 0.]\n",
            " [0. 0. 0. 0. 0.]\n",
            " [0. 0. 0. 0. 0.]\n",
            " [0. 0. 0. 0. 0.]\n",
            " [0. 0. 0. 0. 0.]]\n"
          ]
        }
      ],
      "source": [
        "# zeros() : create a matrix of zeros.\n",
        "\n",
        "# 1. create a matrix of 5X5.\n",
        "\n",
        "a = numpy.matlib.zeros((5,5))\n",
        "print(a)"
      ]
    },
    {
      "cell_type": "code",
      "execution_count": null,
      "metadata": {
        "colab": {
          "base_uri": "https://localhost:8080/"
        },
        "id": "u5SeOgyVhybE",
        "outputId": "10f2a56d-657e-4a76-c060-4cf507eff276"
      },
      "outputs": [
        {
          "output_type": "stream",
          "name": "stdout",
          "text": [
            "[[1. 1. 1.]\n",
            " [1. 1. 1.]\n",
            " [1. 1. 1.]\n",
            " [1. 1. 1.]\n",
            " [1. 1. 1.]]\n"
          ]
        }
      ],
      "source": [
        "# ones() : create a matrix of ones.\n",
        "\n",
        "# 1. create a matrix of 5X3.\n",
        "\n",
        "b = numpy.matlib.ones((5,3))\n",
        "print(b)"
      ]
    },
    {
      "cell_type": "code",
      "execution_count": null,
      "metadata": {
        "colab": {
          "base_uri": "https://localhost:8080/"
        },
        "id": "tG6VXHQ8hybE",
        "outputId": "1594dfa3-faf7-4835-aa31-9b5fc261b8fc"
      },
      "outputs": [
        {
          "output_type": "stream",
          "name": "stdout",
          "text": [
            "[[1. 0. 0. 0. 0. 0.]\n",
            " [0. 1. 0. 0. 0. 0.]\n",
            " [0. 0. 1. 0. 0. 0.]\n",
            " [0. 0. 0. 1. 0. 0.]\n",
            " [0. 0. 0. 0. 1. 0.]\n",
            " [0. 0. 0. 0. 0. 1.]]\n"
          ]
        }
      ],
      "source": [
        "# identity() : create an Identity matrix.\n",
        "\n",
        "c = numpy.matlib.identity(6)\n",
        "print(c)"
      ]
    },
    {
      "cell_type": "markdown",
      "metadata": {
        "id": "de0DmGAQhybE"
      },
      "source": [
        "Matrix Multiplication :\n",
        "\n",
        "1 2 3       10 20 30                    25    36    58\n",
        "4 5 6        6  5  8       \n",
        "7 8 9        1  2  4\n",
        "\n",
        "c(1,1)= (1*10 + 2*6 + 3*1 ) = 10 +12 +3 = 25\n",
        "c(1,2)= (1*20 + 2*5 + 3*2 ) = 20 + 10 + 6 = 36\n",
        "c(1,3)= (1*30 + 2*8 + 3*4 ) = 30 + 16 + 12 = 58"
      ]
    },
    {
      "cell_type": "code",
      "execution_count": null,
      "metadata": {
        "colab": {
          "base_uri": "https://localhost:8080/"
        },
        "id": "U5_qdWrchybE",
        "outputId": "d6ce5d76-ed2f-4f42-ce0c-1daf3a627061"
      },
      "outputs": [
        {
          "output_type": "stream",
          "name": "stdout",
          "text": [
            "[[1 2 3]\n",
            " [4 5 6]\n",
            " [7 8 9]]\n",
            "[[10 20 30]\n",
            " [ 6  5  8]\n",
            " [ 1  2  4]]\n",
            "[[ 25  36  58]\n",
            " [ 76 117 184]\n",
            " [127 198 310]]\n"
          ]
        }
      ],
      "source": [
        "# Matrix Multiplication : \n",
        "\n",
        "# matmul() :\n",
        "\n",
        "a = nm.array([[1,2,3], [4,5,6], [7,8,9]])\n",
        "b = nm.array([[10,20,30], [6,5,8], [1,2,4]])\n",
        "\n",
        "print(a)\n",
        "print(b)\n",
        "\n",
        "c = nm.matmul(a,b)\n",
        "\n",
        "print(c)"
      ]
    },
    {
      "cell_type": "code",
      "execution_count": null,
      "metadata": {
        "colab": {
          "base_uri": "https://localhost:8080/"
        },
        "id": "e9TA-cLAhybE",
        "outputId": "5ca96c2f-d756-48a6-ae7b-d2d4eb8ac6de"
      },
      "outputs": [
        {
          "output_type": "stream",
          "name": "stdout",
          "text": [
            "[[10 40 90]\n",
            " [24 25 48]\n",
            " [ 7 16 36]]\n"
          ]
        }
      ],
      "source": [
        "# multiply()  : Element wise multiplication \n",
        "\n",
        "d = nm.multiply(a,b)\n",
        "\n",
        "print(d)"
      ]
    },
    {
      "cell_type": "code",
      "execution_count": null,
      "metadata": {
        "colab": {
          "base_uri": "https://localhost:8080/"
        },
        "id": "4B_77B6ohybF",
        "outputId": "0694bfff-af90-4127-9812-2fa8ccb1f60b"
      },
      "outputs": [
        {
          "output_type": "stream",
          "name": "stdout",
          "text": [
            "550\n"
          ]
        }
      ],
      "source": [
        "# vector :\n",
        "# 1. dot() : dot product\n",
        "\n",
        "a = nm.array([1,2,3,4,5])\n",
        "b = nm.array([10,20,30,40,50])\n",
        "\n",
        "#dot_product = a1* b1 + a2+b2 + a3*b3 + ... = 1*10 + 2*20 + 3*30 + 4*40 + 5 * 50 = 10+40 + 90+160+250 = 550\n",
        "\n",
        "c = nm.dot(a,b)\n",
        "print(c)"
      ]
    },
    {
      "cell_type": "code",
      "execution_count": null,
      "metadata": {
        "colab": {
          "base_uri": "https://localhost:8080/"
        },
        "id": "Tp4e5mrChybF",
        "outputId": "1faa0989-dad7-4615-ded9-fe92eee1752f"
      },
      "outputs": [
        {
          "output_type": "stream",
          "name": "stdout",
          "text": [
            "Determinant of Matrix :  -2.0000000000000004\n"
          ]
        }
      ],
      "source": [
        "# Determinant of Matrix : det() \n",
        "\n",
        "a = nm.array([[1,2], [3,4]])\n",
        "\n",
        "# 1   2\n",
        "# 3   4     = (1 * 4) - (2 * 3) = 4-6 = -2\n",
        "\n",
        "\n",
        "det = nm.linalg.det(a)\n",
        "print(\"Determinant of Matrix : \",det)"
      ]
    },
    {
      "cell_type": "code",
      "execution_count": null,
      "metadata": {
        "colab": {
          "base_uri": "https://localhost:8080/"
        },
        "id": "9QRg14JdhybF",
        "outputId": "a789aa32-9948-4b65-d6c8-8e3c24f4e307"
      },
      "outputs": [
        {
          "output_type": "stream",
          "name": "stdout",
          "text": [
            "[[-2.   1. ]\n",
            " [ 1.5 -0.5]]\n"
          ]
        }
      ],
      "source": [
        "# Inverse of a Matrix : inv()\n",
        "\n",
        "# 1. determinant        2. co-factors        3. Inverse\n",
        "\n",
        "# A * [INV]  = [1]\n",
        "\n",
        "\n",
        "a = nm.array([[1,2], [3,4]])\n",
        "\n",
        "inv = nm.linalg.inv(a)\n",
        "print(inv)"
      ]
    },
    {
      "cell_type": "code",
      "execution_count": null,
      "metadata": {
        "colab": {
          "base_uri": "https://localhost:8080/"
        },
        "id": "BxbQlGrFhybF",
        "outputId": "0ac33664-0eb7-4eca-b04c-419ca2cd4957"
      },
      "outputs": [
        {
          "output_type": "execute_result",
          "data": {
            "text/plain": [
              "array([[1., 0.],\n",
              "       [0., 1.]])"
            ]
          },
          "metadata": {},
          "execution_count": 99
        }
      ],
      "source": [
        "nm.around(nm.matmul(a, inv),1)"
      ]
    },
    {
      "cell_type": "code",
      "execution_count": null,
      "metadata": {
        "id": "CsS7bPQkhybG"
      },
      "outputs": [],
      "source": [
        "a = nm.array([10,20,30,40,50],dtype= bool)"
      ]
    },
    {
      "cell_type": "code",
      "execution_count": null,
      "metadata": {
        "colab": {
          "base_uri": "https://localhost:8080/"
        },
        "id": "GaJnN5MdhybG",
        "outputId": "f113e466-406c-4fcf-eb25-9bb459eded2b"
      },
      "outputs": [
        {
          "output_type": "execute_result",
          "data": {
            "text/plain": [
              "array([ True,  True,  True,  True,  True])"
            ]
          },
          "metadata": {},
          "execution_count": 102
        }
      ],
      "source": [
        "a"
      ]
    }
  ],
  "metadata": {
    "kernelspec": {
      "display_name": "Python 3",
      "language": "python",
      "name": "python3"
    },
    "language_info": {
      "codemirror_mode": {
        "name": "ipython",
        "version": 3
      },
      "file_extension": ".py",
      "mimetype": "text/x-python",
      "name": "python",
      "nbconvert_exporter": "python",
      "pygments_lexer": "ipython3",
      "version": "3.7.6"
    },
    "colab": {
      "provenance": []
    }
  },
  "nbformat": 4,
  "nbformat_minor": 0
}